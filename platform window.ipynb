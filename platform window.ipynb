{
 "cells": [
  {
   "cell_type": "code",
   "execution_count": null,
   "metadata": {},
   "outputs": [],
   "source": [
    "pip install random"
   ]
  },
  {
   "cell_type": "code",
   "execution_count": 151,
   "metadata": {},
   "outputs": [
    {
     "data": {
      "text/plain": [
       "2"
      ]
     },
     "execution_count": 151,
     "metadata": {},
     "output_type": "execute_result"
    }
   ],
   "source": [
    "import random\n",
    "from random import choice\n",
    "c=[1,2,5,4,3]\n",
    "choice(c)       "
   ]
  },
  {
   "cell_type": "code",
   "execution_count": 168,
   "metadata": {},
   "outputs": [
    {
     "name": "stdout",
     "output_type": "stream",
     "text": [
      "[1 '整理床，站立' '低强度' 2.0 22.0 18.7 '家务活动' '有氧']\n",
      "[5 6 8 9 10 11 13 14 19 20 21 22 23 25 26 27 29 30 32 39 40 41 42 46 47 48\n",
      " 49 50]\n",
      "19\n"
     ]
    }
   ],
   "source": [
    "import numpy as np\n",
    "import pandas as pd\n",
    "import random\n",
    "from random import choice\n",
    "df=np.array(pd.read_excel('D:\\大五\\PBL\\常见身体活动强度和能量消耗表.xlsx'))\n",
    "print(df[0])\n",
    "print(df[df[:,2]=='中强度'][:,0])\n",
    "i = choice(df[df[:,2]=='中强度'][:,0])\n",
    "print(i)"
   ]
  },
  {
   "cell_type": "code",
   "execution_count": 14,
   "metadata": {},
   "outputs": [],
   "source": [
    "import tkinter as tk  # 使用Tkinter前需要先导入\n",
    "import tkinter.messagebox\n",
    "import pickle\n",
    "\n",
    "window = tk.Tk()\n",
    "window.title('糖尿病运动管理')\n",
    "window.geometry('1200x900')  \n",
    " \n",
    "# 年龄\n",
    "tk.Label(window, text='年龄（岁）:', font=('宋体',15)).place(x=10, y=10)\n",
    "var_age = tk.IntVar()\n",
    "entry_age = tk.Entry(window, textvariable=var_age, font=('宋体', 15))\n",
    "entry_age.place(x=130,y=10)\n",
    "\n",
    "# 身高\n",
    "tk.Label(window, text='身高（cm）:', font=('宋体',15)).place(x=10, y=60)\n",
    "var_height = tk.DoubleVar()\n",
    "entry_height = tk.Entry(window, textvariable=var_height, font=('宋体',15))\n",
    "entry_height.place(x=130,y=60)\n",
    "\n",
    "# 体重\n",
    "tk.Label(window, text='体重（kg）:', font=('宋体',15)).place(x=10, y=110)\n",
    "var_weight = tk.DoubleVar()\n",
    "entry_weight = tk.Entry(window, textvariable=var_weight, font=('宋体',15))\n",
    "entry_weight.place(x=130,y=110)\n",
    "\n",
    "#血糖指标\n",
    "tk.Label(window, text='血糖（mmol/L）:', font=('宋体',15)).place(x=10, y=160)\n",
    "var_g = tk.DoubleVar()\n",
    "entry_g = tk.Entry(window, textvariable=var_g, font=('宋体',15))\n",
    "entry_g.place(x=180,y=160)\n",
    "#gg = float(var_g.get())\n",
    "if var_g.get()>16.7:\n",
    "    tkinter.messagebox.showwarning(title='温馨提示', message='血糖>16.7 mmol/L应谨慎进行剧烈体力活动，确保水分补充充足！') \n",
    "\n",
    "# 基础病、并发症\n",
    "tk.Label(window, text='是否有并发症:', font=('宋体',15)).place(x=10, y=210)\n",
    "var_disease = tk.IntVar() \n",
    "r1 = tk.Radiobutton(window, text='是', font=('宋体',15), variable=var_disease, value=1)\n",
    "r1.place(x=160,y=210)\n",
    "r2 = tk.Radiobutton(window, text='否', font=('宋体',15), variable=var_disease, value=0)\n",
    "r2.place(x=260,y=210)\n",
    "\n",
    "\n",
    "# 第6步，定义5个Checkbutton选项并放置\n",
    "tk.Label(window, text='倾向于哪些强度运动:', font=('宋体',15)).place(x=10, y=260)\n",
    "def print_selection():\n",
    "    if (var_disease.get()==1) and ((var_high.get()==1)or(var_highest.get()==1)):\n",
    "        tkinter.messagebox.showerror(title='不可选提示', message='有并发症患者不可选择高强度和极高强度运动！')\n",
    "    elif (var_age.get()>65) and (var_highest.get()==1):\n",
    "        tkinter.messagebox.showwarning(title='温馨提示', message='年龄较高者不适合极高强度运动！') \n",
    "    #count = var_low.get()+var_mid.get()+var_low.get()+var_low.get()\n",
    "\n",
    "var_low = tk.IntVar()        \n",
    "c1 = tk.Checkbutton(window, text='低强度', font=('宋体',15),variable=var_low, onvalue=1, offvalue=0, command=print_selection)    # 传值原理类似于radiobutton部件\n",
    "c1.place(x=230,y=260)\n",
    "\n",
    "var_mid = tk.IntVar()\n",
    "c2 = tk.Checkbutton(window, text='中强度', font=('宋体',15),variable=var_mid, onvalue=1, offvalue=0, command=print_selection)\n",
    "c2.place(x=330,y=260)\n",
    "\n",
    "var_high = tk.IntVar()\n",
    "c3 = tk.Checkbutton(window, text='高强度', font=('宋体',15),variable=var_high, onvalue=1, offvalue=0, command=print_selection)\n",
    "c3.place(x=430,y=260)\n",
    "\n",
    "var_highest = tk.IntVar()\n",
    "c4 = tk.Checkbutton(window, text='极高强度', font=('宋体',15),variable=var_highest, onvalue=1, offvalue=0, command=print_selection)\n",
    "c4.place(x=530,y=260)\n",
    "\n",
    "\n",
    "# 查询\n",
    "def find_num1():\n",
    "    window_low = tk.Toplevel(window)\n",
    "    window_low.title('低强度运动')\n",
    "    window_low.geometry('600x1000')\n",
    "    for low in df[df[:,2]=='低强度']:\n",
    "        var=str(low[0])+'   '+low[1]\n",
    "        tk.Label(window_low, text=var, font=('宋体',15),relief = \"groove\", width = 80, anchor = \"w\").pack()\n",
    "        \n",
    "def find_num2():\n",
    "    window_mid = tk.Toplevel(window)\n",
    "    window_mid.title('中强度运动')\n",
    "    window_mid.geometry('600x1000')  \n",
    "    for mid in df[df[:,2]=='中强度']:\n",
    "        var=str(mid[0])+'   '+mid[1]\n",
    "        tk.Label(window_mid, text=var, font=('宋体',15),relief = \"groove\", width = 80, anchor = \"w\").pack()\n",
    "        \n",
    "def find_num3():\n",
    "    window_high = tk.Toplevel(window)\n",
    "    window_high.title('高强度运动')\n",
    "    window_high.geometry('600x1000')\n",
    "    for high in df[df[:,2]=='高强度']:\n",
    "        var=str(high[0])+'   '+high[1]\n",
    "        tk.Label(window_high, text=var, font=('宋体',15),relief = \"groove\", width = 80, anchor = \"w\").pack()\n",
    "        \n",
    "def find_num4():\n",
    "    window_highest = tk.Toplevel(window)\n",
    "    window_highest.title('极高强度运动')\n",
    "    window_highest.geometry('600x1000')\n",
    "    for highest in df[df[:,2]=='极高强度']:\n",
    "        var=str(highest[0])+'   '+highest[1]\n",
    "        tk.Label(window_highest, text=var, font=('宋体',15),relief = \"groove\", width = 80, anchor = \"w\").pack()\n",
    "        \n",
    "tk.Label(window, text='点击查询运动编号:', font=('宋体',15)).place(x=10, y=310)\n",
    "f1 = tk.Button(window, text='低强度', font=('宋体', 15), width=8, height=1, command=find_num1)\n",
    "f1.place(x=230,y=310)\n",
    "\n",
    "f2 = tk.Button(window, text='中强度', font=('宋体', 15), width=8, height=1, command=find_num2)\n",
    "f2.place(x=330,y=310)\n",
    "\n",
    "f3 = tk.Button(window, text='高强度', font=('宋体', 15), width=8, height=1, command=find_num3)\n",
    "f3.place(x=430,y=310)\n",
    "\n",
    "f4 = tk.Button(window, text='极高强度', font=('宋体', 15), width=8, height=1, command=find_num4)\n",
    "f4.place(x=530,y=310)\n",
    "\n",
    "# 输入编号\n",
    "tk.Label(window, text='选择的运动编号:', font=('宋体',15)).place(x=10, y=360)\n",
    "var_num = tk.IntVar()\n",
    "entry_num = tk.Entry(window, textvariable=var_num, font=('宋体',15))\n",
    "entry_num.place(x=230,y=360)\n",
    "\n",
    "var_num0 = tk.IntVar()\n",
    "entry_num0 = tk.Entry(window, textvariable=var_num0, font=('宋体',15))\n",
    "entry_num0.place(x=450,y=360)\n",
    "\n",
    "\n",
    "# 确认或者重新输入\n",
    "def plan1():\n",
    "    text_var=calculate(var_age.get(),var_height.get(),var_weight.get(),var_disease.get(),var_low.get(),var_mid.get(),var_high.get(),var_highest.get(),var_num.get(),var_num0.get())\n",
    "    tk.Label(window, text=text_var, font=('宋体',15)).place(x=10, y=410)\n",
    "def plan2():\n",
    "    entry_age.delete(0,'end')\n",
    "    entry_height.delete(0,'end')\n",
    "    entry_weight.delete(0,'end')\n",
    "    entry_g.delete(0,'end')\n",
    "    r1.deselect()\n",
    "    r2.deselect()\n",
    "    c1.deselect()\n",
    "    c2.deselect()\n",
    "    c3.deselect()\n",
    "    c4.deselect()\n",
    "    entry_num.delete(0,'end')\n",
    "    entry_num0.delete(0,'end')\n",
    "    \n",
    "confirm_button = tk.Button(window, text='确认信息', font=('宋体', 15), width=10, height=1, command=plan1)\n",
    "confirm_button.place(x=10,y=410)\n",
    "exit_button = tk.Button(window, text='重新输入', font=('宋体', 15), width=10, height=1, command=plan2)\n",
    "exit_button.place(x=150,y=410)\n",
    "\n",
    "window.mainloop()\n"
   ]
  },
  {
   "cell_type": "code",
   "execution_count": 85,
   "metadata": {},
   "outputs": [
    {
     "name": "stdout",
     "output_type": "stream",
     "text": [
      "yes\n",
      "True\n",
      "True\n"
     ]
    }
   ],
   "source": [
    "tkinter.messagebox.showinfo(title='Hi', message='你好！')            # 提示信息对话窗\n",
    "tkinter.messagebox.showwarning(title='Hi', message='有警告！')       # 提出警告对话窗\n",
    "tkinter.messagebox.showerror(title='不可选提示', message='有并发症患者不可选择高强度和极高强度运动！')         # 提出错误对话窗\n",
    "print(tkinter.messagebox.askquestion(title='Hi', message='你好！'))  # 询问选择对话窗return 'yes', 'no'\n",
    "print(tkinter.messagebox.askyesno(title='Hi', message='你好！'))     # return 'True', 'False'\n",
    "print(tkinter.messagebox.askokcancel(title='Hi', message='你好！'))  # return 'True', 'False'"
   ]
  },
  {
   "cell_type": "code",
   "execution_count": 119,
   "metadata": {},
   "outputs": [
    {
     "data": {
      "text/plain": [
       "4"
      ]
     },
     "execution_count": 119,
     "metadata": {},
     "output_type": "execute_result"
    }
   ],
   "source": [
    "def q(a,b=1,c=2):\n",
    "    return a+b+c\n",
    "a=1\n",
    "\n",
    "q(a)"
   ]
  },
  {
   "cell_type": "code",
   "execution_count": null,
   "metadata": {},
   "outputs": [],
   "source": []
  }
 ],
 "metadata": {
  "kernelspec": {
   "display_name": "Python 3",
   "language": "python",
   "name": "python3"
  },
  "language_info": {
   "codemirror_mode": {
    "name": "ipython",
    "version": 3
   },
   "file_extension": ".py",
   "mimetype": "text/x-python",
   "name": "python",
   "nbconvert_exporter": "python",
   "pygments_lexer": "ipython3",
   "version": "3.7.6"
  }
 },
 "nbformat": 4,
 "nbformat_minor": 4
}
